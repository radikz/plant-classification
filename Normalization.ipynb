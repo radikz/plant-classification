{
 "cells": [
  {
   "cell_type": "markdown",
   "id": "0e33c37f-1040-4391-82bb-4a6bbeaff902",
   "metadata": {},
   "source": [
    "# Random Forest Tanpa Normalization"
   ]
  },
  {
   "cell_type": "code",
   "execution_count": 1,
   "id": "74bdbda6-5e40-451c-9ca9-41a541408aa1",
   "metadata": {
    "tags": []
   },
   "outputs": [
    {
     "name": "stdout",
     "output_type": "stream",
     "text": [
      "Accuracy:  0.9823529411764705\n",
      "\n",
      "Classification Report:\n",
      "               precision    recall  f1-score   support\n",
      "\n",
      "   Soyabeans       1.00      1.00      1.00        25\n",
      "       apple       1.00      1.00      1.00        23\n",
      "      banana       1.00      1.00      1.00        25\n",
      "       beans       1.00      1.00      1.00        31\n",
      "      coffee       1.00      1.00      1.00        18\n",
      "      cotton       1.00      1.00      1.00        23\n",
      "     cowpeas       1.00      1.00      1.00        22\n",
      "      grapes       1.00      1.00      1.00        22\n",
      "  groundnuts       0.85      0.92      0.88        25\n",
      "       maize       1.00      1.00      1.00        22\n",
      "       mango       1.00      1.00      1.00        22\n",
      "      orange       1.00      1.00      1.00        16\n",
      "        peas       0.91      0.84      0.88        25\n",
      "        rice       1.00      1.00      1.00        23\n",
      "  watermelon       1.00      1.00      1.00        18\n",
      "\n",
      "    accuracy                           0.98       340\n",
      "   macro avg       0.98      0.98      0.98       340\n",
      "weighted avg       0.98      0.98      0.98       340\n",
      "\n"
     ]
    }
   ],
   "source": [
    "import pandas as pd\n",
    "from sklearn.model_selection import train_test_split\n",
    "from sklearn.ensemble import RandomForestClassifier\n",
    "from sklearn.metrics import accuracy_score, classification_report\n",
    "\n",
    "\n",
    "# Load the dataset\n",
    "data = pd.read_csv('Crop_recommendation.csv', sep=\",\")\n",
    "\n",
    "\n",
    "# Split inputs and target\n",
    "X = data.drop('label', axis=1)\n",
    "y = data['label']\n",
    "\n",
    "# Split data into training and test sets\n",
    "X_train, X_test, y_train, y_test = train_test_split(X, y, test_size=0.2, random_state=42)\n",
    "\n",
    "# Initialize RandomForestClassifier and fit the training data\n",
    "rfr = RandomForestClassifier()\n",
    "rfr.fit(X_train, y_train)\n",
    "\n",
    "# Predict and measure RMSE\n",
    "predictions = rfr.predict(X_test)\n",
    "accuracy = accuracy_score(y_test, predictions)\n",
    "print(\"Accuracy: \", accuracy)\n",
    "print(\"\\nClassification Report:\\n\", classification_report(y_test, predictions))"
   ]
  },
  {
   "cell_type": "markdown",
   "id": "789b5f17-617e-44b6-946b-ffef887ccd6d",
   "metadata": {},
   "source": [
    "# Random Forest Dengan StandardScaler"
   ]
  },
  {
   "cell_type": "code",
   "execution_count": 2,
   "id": "48116ba7-ddfb-4ee4-8ca9-eaf8e07ea42d",
   "metadata": {
    "tags": []
   },
   "outputs": [
    {
     "name": "stdout",
     "output_type": "stream",
     "text": [
      "Accuracy:  0.9882352941176471\n",
      "\n",
      "Classification Report:\n",
      "               precision    recall  f1-score   support\n",
      "\n",
      "   Soyabeans       1.00      1.00      1.00        25\n",
      "       apple       1.00      1.00      1.00        23\n",
      "      banana       1.00      1.00      1.00        25\n",
      "       beans       1.00      1.00      1.00        31\n",
      "      coffee       1.00      1.00      1.00        18\n",
      "      cotton       1.00      1.00      1.00        23\n",
      "     cowpeas       1.00      1.00      1.00        22\n",
      "      grapes       1.00      1.00      1.00        22\n",
      "  groundnuts       0.89      0.96      0.92        25\n",
      "       maize       1.00      1.00      1.00        22\n",
      "       mango       1.00      1.00      1.00        22\n",
      "      orange       1.00      1.00      1.00        16\n",
      "        peas       0.96      0.88      0.92        25\n",
      "        rice       1.00      1.00      1.00        23\n",
      "  watermelon       1.00      1.00      1.00        18\n",
      "\n",
      "    accuracy                           0.99       340\n",
      "   macro avg       0.99      0.99      0.99       340\n",
      "weighted avg       0.99      0.99      0.99       340\n",
      "\n"
     ]
    }
   ],
   "source": [
    "from sklearn.preprocessing import StandardScaler\n",
    "\n",
    "# Initialize the StandardScaler\n",
    "scaler = StandardScaler()\n",
    "\n",
    "# Fit and transform the training data\n",
    "X_train_scaled = scaler.fit_transform(X_train)\n",
    "\n",
    "# Transform test data\n",
    "X_test_scaled = scaler.transform(X_test)\n",
    "\n",
    "# Initialize RandomForestClassifier and fit the scaled training data\n",
    "rfr_scaled = RandomForestClassifier()\n",
    "rfr_scaled.fit(X_train_scaled, y_train)\n",
    "\n",
    "# Predict and measure RMSE\n",
    "predictions_scaled = rfr_scaled.predict(X_test_scaled)\n",
    "accuracy_scaled = accuracy_score(y_test, predictions_scaled)\n",
    "print(\"Accuracy: \", accuracy_scaled)\n",
    "print(\"\\nClassification Report:\\n\", classification_report(y_test, predictions_scaled))"
   ]
  },
  {
   "cell_type": "markdown",
   "id": "a45da2ab-f0cb-4227-ad5d-1211afa8e7da",
   "metadata": {},
   "source": [
    "# Random Forest MinMax Scaler"
   ]
  },
  {
   "cell_type": "code",
   "execution_count": 3,
   "id": "2dabe0e8-b341-4921-927b-c13ad6cf36ae",
   "metadata": {
    "tags": []
   },
   "outputs": [
    {
     "name": "stdout",
     "output_type": "stream",
     "text": [
      "Accuracy:  0.9823529411764705\n",
      "\n",
      "Classification Report:\n",
      "               precision    recall  f1-score   support\n",
      "\n",
      "   Soyabeans       1.00      1.00      1.00        25\n",
      "       apple       1.00      1.00      1.00        23\n",
      "      banana       1.00      1.00      1.00        25\n",
      "       beans       1.00      1.00      1.00        31\n",
      "      coffee       1.00      1.00      1.00        18\n",
      "      cotton       1.00      1.00      1.00        23\n",
      "     cowpeas       1.00      1.00      1.00        22\n",
      "      grapes       1.00      1.00      1.00        22\n",
      "  groundnuts       0.85      0.92      0.88        25\n",
      "       maize       1.00      1.00      1.00        22\n",
      "       mango       1.00      1.00      1.00        22\n",
      "      orange       1.00      1.00      1.00        16\n",
      "        peas       0.91      0.84      0.88        25\n",
      "        rice       1.00      1.00      1.00        23\n",
      "  watermelon       1.00      1.00      1.00        18\n",
      "\n",
      "    accuracy                           0.98       340\n",
      "   macro avg       0.98      0.98      0.98       340\n",
      "weighted avg       0.98      0.98      0.98       340\n",
      "\n"
     ]
    }
   ],
   "source": [
    "from sklearn.preprocessing import MinMaxScaler\n",
    "\n",
    "# Initialize MinMaxScaler\n",
    "minmax = MinMaxScaler()\n",
    "\n",
    "# Fit and transform the training data\n",
    "X_train_minmax = minmax.fit_transform(X_train)\n",
    "\n",
    "# Transform test data\n",
    "X_test_minmax = minmax.transform(X_test)\n",
    "\n",
    "# Initialize RandomForestClassifier and fit the MinMax scaled training data\n",
    "rfr_minmax = RandomForestClassifier()\n",
    "rfr_minmax.fit(X_train_minmax, y_train)\n",
    "\n",
    "predictions_minmax = rfr_minmax.predict(X_test_minmax)\n",
    "accuracy_minmax = accuracy_score(y_test, predictions_minmax)\n",
    "print(\"Accuracy: \", accuracy_minmax)\n",
    "print(\"\\nClassification Report:\\n\", classification_report(y_test, predictions_minmax))"
   ]
  },
  {
   "cell_type": "markdown",
   "id": "78f5a2de-52c7-417a-8d8d-fa9e65465623",
   "metadata": {},
   "source": [
    "# Random Forest dengan normalizer"
   ]
  },
  {
   "cell_type": "code",
   "execution_count": 4,
   "id": "4ce80249-0fb8-44cb-8dca-392d085b16cf",
   "metadata": {
    "tags": []
   },
   "outputs": [
    {
     "name": "stdout",
     "output_type": "stream",
     "text": [
      "Accuracy:  0.961764705882353\n",
      "\n",
      "Classification Report:\n",
      "               precision    recall  f1-score   support\n",
      "\n",
      "   Soyabeans       1.00      1.00      1.00        25\n",
      "       apple       1.00      1.00      1.00        23\n",
      "      banana       1.00      1.00      1.00        25\n",
      "       beans       1.00      0.97      0.98        31\n",
      "      coffee       1.00      1.00      1.00        18\n",
      "      cotton       0.92      0.96      0.94        23\n",
      "     cowpeas       0.92      1.00      0.96        22\n",
      "      grapes       1.00      1.00      1.00        22\n",
      "  groundnuts       0.84      0.84      0.84        25\n",
      "       maize       0.95      0.91      0.93        22\n",
      "       mango       1.00      1.00      1.00        22\n",
      "      orange       1.00      1.00      1.00        16\n",
      "        peas       0.83      0.80      0.82        25\n",
      "        rice       1.00      1.00      1.00        23\n",
      "  watermelon       1.00      1.00      1.00        18\n",
      "\n",
      "    accuracy                           0.96       340\n",
      "   macro avg       0.96      0.96      0.96       340\n",
      "weighted avg       0.96      0.96      0.96       340\n",
      "\n"
     ]
    }
   ],
   "source": [
    "from sklearn.preprocessing import Normalizer\n",
    "\n",
    "# Initialize Normalizer\n",
    "normalizer = Normalizer()\n",
    "\n",
    "# Fit and transform the training data\n",
    "X_train_normalized = normalizer.fit_transform(X_train)\n",
    "\n",
    "# Transform the test data\n",
    "X_test_normalized = normalizer.transform(X_test)\n",
    "\n",
    "# Initialize RandomForestClassifier and fit normalized training data\n",
    "rfr_normalized = RandomForestClassifier()\n",
    "rfr_normalized.fit(X_train_normalized, y_train)\n",
    "\n",
    "predictions_normalized = rfr_normalized.predict(X_test_normalized)\n",
    "accuracy_normalized = accuracy_score(y_test, predictions_normalized)\n",
    "print(\"Accuracy: \", accuracy_normalized)\n",
    "print(\"\\nClassification Report:\\n\", classification_report(y_test, predictions_normalized))"
   ]
  }
 ],
 "metadata": {
  "kernelspec": {
   "display_name": "Python 3 (ipykernel)",
   "language": "python",
   "name": "python3"
  },
  "language_info": {
   "codemirror_mode": {
    "name": "ipython",
    "version": 3
   },
   "file_extension": ".py",
   "mimetype": "text/x-python",
   "name": "python",
   "nbconvert_exporter": "python",
   "pygments_lexer": "ipython3",
   "version": "3.10.6"
  }
 },
 "nbformat": 4,
 "nbformat_minor": 5
}
